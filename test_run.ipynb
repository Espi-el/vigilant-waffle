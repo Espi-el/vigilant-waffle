{
 "cells": [
  {
   "cell_type": "code",
   "execution_count": 4,
   "id": "03880a34",
   "metadata": {},
   "outputs": [
    {
     "name": "stdout",
     "output_type": "stream",
     "text": [
      "2025-08-17 22:45:08.171 WARNING streamlit.runtime.scriptrunner_utils.script_run_context: Thread 'MainThread': missing ScriptRunContext! This warning can be ignored when running in bare mode.\n",
      "2025-08-17 22:45:08.171 WARNING streamlit.runtime.scriptrunner_utils.script_run_context: Thread 'MainThread': missing ScriptRunContext! This warning can be ignored when running in bare mode.\n",
      "2025-08-17 22:45:08.207 \n",
      "  \u001b[33m\u001b[1mWarning:\u001b[0m to view this Streamlit app on a browser, run it with the following\n",
      "  command:\n",
      "\n",
      "    streamlit run ./assistant_v1.py [ARGUMENTS]\n",
      "2025-08-17 22:45:08.207 Thread 'MainThread': missing ScriptRunContext! This warning can be ignored when running in bare mode.\n",
      "2025-08-17 22:45:08.207 Thread 'MainThread': missing ScriptRunContext! This warning can be ignored when running in bare mode.\n",
      "2025-08-17 22:45:08.207 Thread 'MainThread': missing ScriptRunContext! This warning can be ignored when running in bare mode.\n",
      "2025-08-17 22:45:08.207 Thread 'MainThread': missing ScriptRunContext! This warning can be ignored when running in bare mode.\n",
      "2025-08-17 22:45:08.207 Thread 'MainThread': missing ScriptRunContext! This warning can be ignored when running in bare mode.\n",
      "2025-08-17 22:45:08.207 Thread 'MainThread': missing ScriptRunContext! This warning can be ignored when running in bare mode.\n",
      "Traceback (most recent call last):\n",
      "  File \u001b[35m\"/Users/sean/Documents/Personal Assistant/./assistant_v1.py\"\u001b[0m, line \u001b[35m53\u001b[0m, in \u001b[35m<module>\u001b[0m\n",
      "    openai_client = get_openai_client()\n",
      "  File \u001b[35m\"/Users/sean/Documents/Personal Assistant/.venv/lib/python3.13/site-packages/streamlit/runtime/caching/cache_utils.py\"\u001b[0m, line \u001b[35m227\u001b[0m, in \u001b[35m__call__\u001b[0m\n",
      "    return \u001b[31mself._get_or_create_cached_value\u001b[0m\u001b[1;31m(args, kwargs, spinner_message)\u001b[0m\n",
      "           \u001b[31m~~~~~~~~~~~~~~~~~~~~~~~~~~~~~~~~\u001b[0m\u001b[1;31m^^^^^^^^^^^^^^^^^^^^^^^^^^^^^^^\u001b[0m\n",
      "  File \u001b[35m\"/Users/sean/Documents/Personal Assistant/.venv/lib/python3.13/site-packages/streamlit/runtime/caching/cache_utils.py\"\u001b[0m, line \u001b[35m269\u001b[0m, in \u001b[35m_get_or_create_cached_value\u001b[0m\n",
      "    return \u001b[31mself._handle_cache_miss\u001b[0m\u001b[1;31m(cache, value_key, func_args, func_kwargs)\u001b[0m\n",
      "           \u001b[31m~~~~~~~~~~~~~~~~~~~~~~~\u001b[0m\u001b[1;31m^^^^^^^^^^^^^^^^^^^^^^^^^^^^^^^^^^^^^^^^^^\u001b[0m\n",
      "  File \u001b[35m\"/Users/sean/Documents/Personal Assistant/.venv/lib/python3.13/site-packages/streamlit/runtime/caching/cache_utils.py\"\u001b[0m, line \u001b[35m328\u001b[0m, in \u001b[35m_handle_cache_miss\u001b[0m\n",
      "    computed_value = self._info.func(*func_args, **func_kwargs)\n",
      "  File \u001b[35m\"/Users/sean/Documents/Personal Assistant/./assistant_v1.py\"\u001b[0m, line \u001b[35m31\u001b[0m, in \u001b[35mget_openai_client\u001b[0m\n",
      "    return OpenAI()\n",
      "  File \u001b[35m\"/Users/sean/Documents/Personal Assistant/.venv/lib/python3.13/site-packages/openai/_client.py\"\u001b[0m, line \u001b[35m130\u001b[0m, in \u001b[35m__init__\u001b[0m\n",
      "    raise OpenAIError(\n",
      "        \"The api_key client option must be set either by passing api_key to the client or by setting the OPENAI_API_KEY environment variable\"\n",
      "    )\n",
      "\u001b[1;35mopenai.OpenAIError\u001b[0m: \u001b[35mThe api_key client option must be set either by passing api_key to the client or by setting the OPENAI_API_KEY environment variable\u001b[0m\n"
     ]
    }
   ],
   "source": [
    "!python3 ./assistant_v1.py"
   ]
  }
 ],
 "metadata": {
  "kernelspec": {
   "display_name": ".venv",
   "language": "python",
   "name": "python3"
  },
  "language_info": {
   "codemirror_mode": {
    "name": "ipython",
    "version": 3
   },
   "file_extension": ".py",
   "mimetype": "text/x-python",
   "name": "python",
   "nbconvert_exporter": "python",
   "pygments_lexer": "ipython3",
   "version": "3.13.3"
  }
 },
 "nbformat": 4,
 "nbformat_minor": 5
}
