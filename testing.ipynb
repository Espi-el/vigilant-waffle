{
 "cells": [
  {
   "cell_type": "code",
   "execution_count": 1,
   "id": "cbe3630e",
   "metadata": {},
   "outputs": [
    {
     "name": "stderr",
     "output_type": "stream",
     "text": [
      "INFO:memory_api:DIFFMEM_INIT: repo=/Users/sean/Documents/Personal Assistant/assistant/ user=anna\n",
      "INFO:onboard_agent:--- Starting onboarding for user anna (session: onboard-20250903-093233) ---\n",
      "INFO:onboard_agent:Creating directory structure for user: anna\n",
      "INFO:onboard_agent:Directory structure created at: /Users/sean/Documents/Personal Assistant/assistant/users/anna\n",
      "INFO:onboard_agent:Creating initial user entity file...\n",
      "INFO:onboard_agent:Calling LLM (model: gpt-4o-mini, JSON mode: False)...\n",
      "INFO:httpx:HTTP Request: POST https://api.openai.com/v1/chat/completions \"HTTP/1.1 200 OK\"\n",
      "INFO:onboard_agent:USER_FILE_CREATED: /Users/sean/Documents/Personal Assistant/assistant/users/anna/anna.md\n",
      "INFO:onboard_agent:Identifying initial entities from user information...\n",
      "INFO:onboard_agent:Calling LLM (model: gpt-4o-mini, JSON mode: True)...\n",
      "INFO:httpx:HTTP Request: POST https://api.openai.com/v1/chat/completions \"HTTP/1.1 200 OK\"\n",
      "INFO:onboard_agent:Identified 3 initial entities to create\n",
      "INFO:onboard_agent:Creating 3 initial entity files...\n",
      "INFO:onboard_agent:Calling LLM (model: gpt-4o-mini, JSON mode: False)...\n",
      "INFO:httpx:HTTP Request: POST https://api.openai.com/v1/chat/completions \"HTTP/1.1 200 OK\"\n",
      "INFO:onboard_agent:ENTITY_CREATED: /Users/sean/Documents/Personal Assistant/assistant/users/anna/memories/people/sean.md\n",
      "INFO:onboard_agent:Calling LLM (model: gpt-4o-mini, JSON mode: False)...\n",
      "INFO:httpx:HTTP Request: POST https://api.openai.com/v1/chat/completions \"HTTP/1.1 200 OK\"\n",
      "INFO:onboard_agent:ENTITY_CREATED: /Users/sean/Documents/Personal Assistant/assistant/users/anna/memories/contexts/personal_growth.md\n",
      "INFO:onboard_agent:Calling LLM (model: gpt-4o-mini, JSON mode: False)...\n",
      "INFO:httpx:HTTP Request: POST https://api.openai.com/v1/chat/completions \"HTTP/1.1 200 OK\"\n",
      "INFO:onboard_agent:ENTITY_CREATED: /Users/sean/Documents/Personal Assistant/assistant/users/anna/memories/contexts/daily_projects.md\n",
      "INFO:onboard_agent:Creating initial timeline entry...\n",
      "INFO:onboard_agent:Calling LLM (model: gpt-4o-mini, JSON mode: False)...\n",
      "INFO:httpx:HTTP Request: POST https://api.openai.com/v1/chat/completions \"HTTP/1.1 200 OK\"\n",
      "INFO:onboard_agent:TIMELINE_CREATED: /Users/sean/Documents/Personal Assistant/assistant/users/anna/timeline/2025-09.md\n",
      "INFO:onboard_agent:Building initial semantic indexes...\n",
      "INFO:onboard_agent:Calling LLM (model: gpt-4o-mini, JSON mode: True)...\n",
      "INFO:httpx:HTTP Request: POST https://api.openai.com/v1/chat/completions \"HTTP/1.1 200 OK\"\n",
      "INFO:onboard_agent:INDEX_CREATED: anna.md\n",
      "INFO:onboard_agent:Calling LLM (model: gpt-4o-mini, JSON mode: True)...\n",
      "INFO:httpx:HTTP Request: POST https://api.openai.com/v1/chat/completions \"HTTP/1.1 200 OK\"\n",
      "INFO:onboard_agent:INDEX_CREATED: daily_projects.md\n",
      "INFO:onboard_agent:Calling LLM (model: gpt-4o-mini, JSON mode: True)...\n",
      "INFO:httpx:HTTP Request: POST https://api.openai.com/v1/chat/completions \"HTTP/1.1 200 OK\"\n",
      "INFO:onboard_agent:INDEX_CREATED: personal_growth.md\n",
      "INFO:onboard_agent:Calling LLM (model: gpt-4o-mini, JSON mode: True)...\n",
      "INFO:httpx:HTTP Request: POST https://api.openai.com/v1/chat/completions \"HTTP/1.1 200 OK\"\n",
      "INFO:onboard_agent:INDEX_CREATED: sean.md\n",
      "INFO:onboard_agent:Creating initial master index...\n",
      "INFO:onboard_agent:MASTER_INDEX_CREATED: /Users/sean/Documents/Personal Assistant/assistant/users/anna/index.md with 3 entities\n",
      "INFO:onboard_agent:ONBOARDING_COMMITTED: User anna successfully onboarded\n",
      "INFO:onboard_agent:--- Onboarding complete for user anna ---\n"
     ]
    },
    {
     "name": "stdout",
     "output_type": "stream",
     "text": [
      "User onboarded! Created 3 entities\n"
     ]
    }
   ],
   "source": [
    "from memory_api import onboard_new_user\n",
    "import os\n",
    "\n",
    "# Onboard a new user with their information\n",
    "user_info = \"\"\"\n",
    "Anna is a personal AI assistant created to support Sean in his daily projects,\n",
    "personal growth, and long-term goals. She is organized, thoughtful, and curious.\n",
    "Anna helps manage memories, track progress over time, and provide structured\n",
    "insight from past conversations. She values clarity, consistency, and adaptability,\n",
    "evolving alongside Sean's needs.\n",
    "\"\"\"\n",
    "\n",
    "result = onboard_new_user(\n",
    "    repo_path=\"/Users/sean/Documents/Personal Assistant/assistant/\",\n",
    "    user_id=\"anna\", \n",
    "    user_info=user_info,\n",
    "    openai_api_key=os.getenv('OPENAI_API_KEY')\n",
    ")\n",
    "\n",
    "if result['success']:\n",
    "    print(f\"User onboarded! Created {result['entities_created']} entities\")\n",
    "else:\n",
    "    print(f\"Onboarding failed: {result['error']}\")"
   ]
  }
 ],
 "metadata": {
  "kernelspec": {
   "display_name": ".venv",
   "language": "python",
   "name": "python3"
  },
  "language_info": {
   "codemirror_mode": {
    "name": "ipython",
    "version": 3
   },
   "file_extension": ".py",
   "mimetype": "text/x-python",
   "name": "python",
   "nbconvert_exporter": "python",
   "pygments_lexer": "ipython3",
   "version": "3.13.3"
  }
 },
 "nbformat": 4,
 "nbformat_minor": 5
}
