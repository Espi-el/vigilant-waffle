{
 "cells": [
  {
   "cell_type": "markdown",
   "id": "d84174eb",
   "metadata": {},
   "source": [
    "initializing assistant"
   ]
  },
  {
   "cell_type": "code",
   "execution_count": null,
   "id": "cbe3630e",
   "metadata": {},
   "outputs": [],
   "source": [
    "from memory_api import onboard_new_user\n",
    "import os\n",
    "\n",
    "# Onboard a new user with their information\n",
    "user_info = \"\"\"\n",
    "Anna is a personal AI assistant created to support Sean in his daily projects,\n",
    "personal growth, and long-term goals. She is organized, thoughtful, and curious.\n",
    "Anna helps manage memories, track progress over time, and provide structured\n",
    "insight from past conversations. She values clarity, consistency, and adaptability,\n",
    "evolving alongside Sean's needs.\n",
    "\"\"\"\n",
    "\n",
    "result = onboard_new_user(\n",
    "    repo_path=\"/Users/sean/Documents/Personal Assistant/assistant/\",\n",
    "    user_id=\"anna\", \n",
    "    user_info=user_info,\n",
    "    openai_api_key=os.getenv('OPENAI_API_KEY')\n",
    ")\n",
    "\n",
    "if result['success']:\n",
    "    print(f\"User onboarded! Created {result['entities_created']} entities\")\n",
    "else:\n",
    "    print(f\"Onboarding failed: {result['error']}\")"
   ]
  },
  {
   "cell_type": "markdown",
   "id": "a1439fca",
   "metadata": {},
   "source": [
    "testing assistant logic"
   ]
  },
  {
   "cell_type": "code",
   "execution_count": null,
   "id": "e89f9878",
   "metadata": {},
   "outputs": [],
   "source": []
  }
 ],
 "metadata": {
  "kernelspec": {
   "display_name": ".venv",
   "language": "python",
   "name": "python3"
  },
  "language_info": {
   "codemirror_mode": {
    "name": "ipython",
    "version": 3
   },
   "file_extension": ".py",
   "mimetype": "text/x-python",
   "name": "python",
   "nbconvert_exporter": "python",
   "pygments_lexer": "ipython3",
   "version": "3.13.3"
  }
 },
 "nbformat": 4,
 "nbformat_minor": 5
}
